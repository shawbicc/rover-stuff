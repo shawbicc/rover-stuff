{
 "cells": [
  {
   "cell_type": "markdown",
   "id": "a94e86bf-94a9-49d7-8350-c1a24d271f7a",
   "metadata": {},
   "source": [
    "# Tkinter GUI\n",
    "This notebook is designed and organised for designing an interactive Tkinter-based GUI for the rover. \n",
    "The GUI is made with the help of this course: https://youtu.be/mop6g-c5HEY?si=SoqQXoV5WuONHCZ0"
   ]
  },
  {
   "cell_type": "markdown",
   "id": "7cc03ba9-548f-4be9-958d-6a7538584923",
   "metadata": {},
   "source": [
    "## Imports"
   ]
  },
  {
   "cell_type": "code",
   "execution_count": 457,
   "id": "58158116-eb4f-4047-8561-91a101fbf5eb",
   "metadata": {},
   "outputs": [],
   "source": [
    "import tkinter as tk\n",
    "import ttkbootstrap as ttk"
   ]
  },
  {
   "cell_type": "markdown",
   "id": "bf3b33bb-0ea5-496d-b42c-2557a01c91b7",
   "metadata": {},
   "source": [
    "## Window \n",
    "Grid-styled, 3 columns (weights: 1, 3, 2), 7 rows (all weight: 1)"
   ]
  },
  {
   "cell_type": "code",
   "execution_count": 458,
   "id": "4f8aa3ce-dbec-4a52-be76-1a73b1989aaf",
   "metadata": {},
   "outputs": [],
   "source": [
    "window = ttk.Window(themename='darkly')\n",
    "window.title('Interplanetar GUI')\n",
    "window.geometry('800x400')\n",
    "\n",
    "window.columnconfigure(0, weight=1)\n",
    "window.columnconfigure(1, weight=3)\n",
    "window.columnconfigure(2, weight=2)\n",
    "\n",
    "window.rowconfigure(0, weight=1)\n",
    "window.rowconfigure(1, weight=2)\n",
    "window.rowconfigure(2, weight=2)\n",
    "window.rowconfigure(3, weight=2)\n",
    "window.rowconfigure(4, weight=2)\n",
    "window.rowconfigure(5, weight=2)\n",
    "window.rowconfigure(6, weight=2)"
   ]
  },
  {
   "cell_type": "markdown",
   "id": "b320f328-fc27-4a3b-b5ca-2fcd6bc7775b",
   "metadata": {},
   "source": [
    "## Global variables "
   ]
  },
  {
   "cell_type": "code",
   "execution_count": 459,
   "id": "08cd2e65-edaa-4bf1-8bef-8205f78933af",
   "metadata": {},
   "outputs": [],
   "source": [
    "global_font = tk.StringVar()\n",
    "global_font.set('Roboto Mono')\n",
    "\n",
    "background_color = tk.StringVar()\n",
    "background_color.set('orange')"
   ]
  },
  {
   "cell_type": "markdown",
   "id": "de8d6295-853b-4226-a685-7cfc6adbe84c",
   "metadata": {},
   "source": [
    "## Frames\n",
    "Includes: Header, Device list, Stats, Control tabs, Terminal, Arm visualization"
   ]
  },
  {
   "cell_type": "code",
   "execution_count": 460,
   "id": "f360a3aa-6dad-4314-b967-0eb4a244268c",
   "metadata": {},
   "outputs": [],
   "source": [
    "header_frame = ttk.Frame(window)\n",
    "devicelist_frame = ttk.Frame(window)\n",
    "stats_frame = ttk.Frame(window)\n",
    "controls_frame = ttk.Frame(window)\n",
    "terminal_frame = ttk.Frame(window)\n",
    "arm_frame = ttk.Frame(window)\n",
    "actions_frame = ttk.Frame(window)"
   ]
  },
  {
   "cell_type": "markdown",
   "id": "4dca4760-856f-47cd-a31e-e0d00af447b0",
   "metadata": {},
   "source": [
    "## Widgets\n",
    "Individual widgets that go into frames"
   ]
  },
  {
   "cell_type": "markdown",
   "id": "734659bd-12e8-4c31-be61-887f0dff6ae1",
   "metadata": {},
   "source": [
    "### Title"
   ]
  },
  {
   "cell_type": "code",
   "execution_count": 461,
   "id": "9567414e-0068-4c05-bdc7-b4aace384dd5",
   "metadata": {},
   "outputs": [],
   "source": [
    "header_label = ttk.Label(header_frame, anchor=tk.CENTER, borderwidth=2, relief=\"solid\", font=(global_font.get(), 16, \"bold\"), text='Team Interplanetar', background=background_color.get())"
   ]
  },
  {
   "cell_type": "markdown",
   "id": "646610f2-8b90-439e-9672-2b5dc04ea315",
   "metadata": {},
   "source": [
    "### Devices"
   ]
  },
  {
   "cell_type": "code",
   "execution_count": 462,
   "id": "1fbd9f62-c04d-4e68-93fe-91795439cadf",
   "metadata": {},
   "outputs": [],
   "source": [
    "devicelist_label = ttk.Label(devicelist_frame, text='Devices', borderwidth=2, relief=\"solid\", background=background_color.get(), anchor=tk.CENTER, font=(global_font.get(), 12, 'bold'))"
   ]
  },
  {
   "cell_type": "markdown",
   "id": "1b92f3c8-8543-4ba7-8e2d-f8be189b3ef4",
   "metadata": {},
   "source": [
    "### Stats"
   ]
  },
  {
   "cell_type": "code",
   "execution_count": 463,
   "id": "33725918-cf6d-4f64-95b8-4be0c7315b17",
   "metadata": {},
   "outputs": [],
   "source": [
    "stats_label =  ttk.Label(stats_frame, text='Stats', borderwidth=2, relief=\"solid\", background=background_color.get(), anchor=tk.CENTER, font=(global_font.get(), 12, 'bold'))"
   ]
  },
  {
   "cell_type": "markdown",
   "id": "178db31f-3518-4d9d-9b87-a7751953b584",
   "metadata": {},
   "source": [
    "### Control tabs"
   ]
  },
  {
   "cell_type": "code",
   "execution_count": 464,
   "id": "42d2c814-2c77-4971-8c92-67a4b647c952",
   "metadata": {},
   "outputs": [],
   "source": [
    "controls_label = ttk.Label(controls_frame, text='Control tabs here')"
   ]
  },
  {
   "cell_type": "markdown",
   "id": "aed0e96e-4cdf-420f-974f-d6901a2c6e38",
   "metadata": {},
   "source": [
    "### Terminal"
   ]
  },
  {
   "cell_type": "code",
   "execution_count": 465,
   "id": "3686f216-cf6b-44c5-9055-d260d376991b",
   "metadata": {},
   "outputs": [],
   "source": [
    "terminal_label = ttk.Label(terminal_frame, text='Terminal', borderwidth=2, relief=\"solid\", background=background_color.get(), anchor=tk.CENTER, font=(global_font.get(), 12, 'bold'))"
   ]
  },
  {
   "cell_type": "markdown",
   "id": "94d59935-3a7d-42e6-9f4a-5cc450149456",
   "metadata": {},
   "source": [
    "### Arm visualization"
   ]
  },
  {
   "cell_type": "code",
   "execution_count": 466,
   "id": "cf7c2523-bb05-4925-8040-1f95019d0ef6",
   "metadata": {},
   "outputs": [],
   "source": [
    "arm_label = ttk.Label(arm_frame, text='Rover Arm', borderwidth=2, relief=\"solid\", background=background_color.get(), anchor=tk.CENTER, font=(global_font.get(), 12, 'bold'))"
   ]
  },
  {
   "cell_type": "markdown",
   "id": "6d024c88-c1d4-490d-8db0-a79583af1970",
   "metadata": {},
   "source": [
    "### Actions "
   ]
  },
  {
   "cell_type": "code",
   "execution_count": 467,
   "id": "aa9e7280-91b8-4c41-8118-c1a0fc372a83",
   "metadata": {},
   "outputs": [],
   "source": [
    "actions_label = ttk.Label(actions_frame, text='Actions', borderwidth=2, relief=\"solid\", background=background_color.get(), anchor=tk.CENTER, font=(global_font.get(), 12, 'bold'))"
   ]
  },
  {
   "cell_type": "markdown",
   "id": "d3b2e2cb-43b9-4400-8607-9599148c50d0",
   "metadata": {},
   "source": [
    "## Widget positioning"
   ]
  },
  {
   "cell_type": "code",
   "execution_count": 468,
   "id": "9e05a0a8-3dda-47d3-ae1e-16b3bc181e50",
   "metadata": {},
   "outputs": [],
   "source": [
    "header_label.pack(expand=True, fill='both')\n",
    "devicelist_label.pack(expand=False, fill='x')\n",
    "stats_label.pack(expand=False, fill='x')\n",
    "controls_label.pack(expand=True, fill='both')\n",
    "terminal_label.pack(expand=False, fill='x')\n",
    "arm_label.pack(expand=False, fill='x')\n",
    "actions_label.pack(expand=False, fill='x')"
   ]
  },
  {
   "cell_type": "markdown",
   "id": "33982c24-d8b4-4b11-86e7-7a5be4a57772",
   "metadata": {},
   "source": [
    "## Frame Positioning"
   ]
  },
  {
   "cell_type": "code",
   "execution_count": 469,
   "id": "3621d117-5d7a-47d5-b5b2-286499adef80",
   "metadata": {},
   "outputs": [],
   "source": [
    "header_frame.grid(row=0, column=0, columnspan=3, sticky='news')\n",
    "stats_frame.grid(row=1, column=0, rowspan=4, sticky='news')\n",
    "devicelist_frame.grid(row=5, column=0, rowspan=2, sticky='news')\n",
    "controls_frame.grid(row=1, column=1, rowspan=4, sticky='news')\n",
    "terminal_frame.grid(row=5, column=1, rowspan=2, sticky='news')\n",
    "arm_frame.grid(row=1, column=2, rowspan=4, sticky='news')\n",
    "actions_frame.grid(row=5, column=2, rowspan=2, sticky='news')"
   ]
  },
  {
   "cell_type": "markdown",
   "id": "852f4645-b508-40ae-b86f-e21cc90a2ba0",
   "metadata": {},
   "source": [
    "## Run"
   ]
  },
  {
   "cell_type": "code",
   "execution_count": 470,
   "id": "13ca3b9e-3b50-425f-ac11-954d1224cc89",
   "metadata": {},
   "outputs": [],
   "source": [
    "window.mainloop()"
   ]
  },
  {
   "cell_type": "code",
   "execution_count": 471,
   "id": "ba52a856-578f-4901-b0ee-e233360d79cd",
   "metadata": {},
   "outputs": [],
   "source": [
    "# import tkinter as tk\n",
    "# # from tkinter import ttk\n",
    "# import ttkbootstrap as ttk\n",
    "\n",
    "# # window\n",
    "# window = ttk.Window(themename = 'darkly')\n",
    "# window.title('ttk bootstrap intro')\n",
    "# window.geometry('400x300')\n",
    "\n",
    "# label = ttk.Label(window, text = 'Label')\n",
    "# label.pack(pady = 10)\n",
    "\n",
    "# button1 = ttk.Button(window, text = 'Red', bootstyle = 'danger-outline')\n",
    "# button1.pack(pady = 10)\n",
    "\n",
    "# button2 = ttk.Button(window, text = 'Warning', bootstyle = 'warning')\n",
    "# button2.pack(pady = 10)\n",
    "\n",
    "# button3 = ttk.Button(window, text = 'Green', bootstyle = 'success')\n",
    "# button3.pack(pady = 10)\n",
    "\n",
    "# # run \n",
    "# window.mainloop()"
   ]
  },
  {
   "cell_type": "code",
   "execution_count": null,
   "id": "f5c6a081-10a2-4aa9-8be0-5b98f7b692c4",
   "metadata": {},
   "outputs": [],
   "source": []
  }
 ],
 "metadata": {
  "kernelspec": {
   "display_name": "Python 3 (ipykernel)",
   "language": "python",
   "name": "python3"
  },
  "language_info": {
   "codemirror_mode": {
    "name": "ipython",
    "version": 3
   },
   "file_extension": ".py",
   "mimetype": "text/x-python",
   "name": "python",
   "nbconvert_exporter": "python",
   "pygments_lexer": "ipython3",
   "version": "3.10.1"
  }
 },
 "nbformat": 4,
 "nbformat_minor": 5
}
