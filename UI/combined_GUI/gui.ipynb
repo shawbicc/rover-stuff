{
 "cells": [
  {
   "cell_type": "markdown",
   "id": "a94e86bf-94a9-49d7-8350-c1a24d271f7a",
   "metadata": {},
   "source": [
    "# Combined GUI\n",
    "This notebook is designed and organised for designing an interactive Tkinter-based GUI for the rover. \n",
    "The GUI is made with the help of this course: https://youtu.be/mop6g-c5HEY?si=SoqQXoV5WuONHCZ0"
   ]
  },
  {
   "cell_type": "markdown",
   "id": "7cc03ba9-548f-4be9-958d-6a7538584923",
   "metadata": {},
   "source": [
    "## Imports"
   ]
  },
  {
   "cell_type": "code",
   "execution_count": 278,
   "id": "58158116-eb4f-4047-8561-91a101fbf5eb",
   "metadata": {},
   "outputs": [],
   "source": [
    "import tkinter as tk\n",
    "import ttkbootstrap as ttk\n",
    "import time"
   ]
  },
  {
   "cell_type": "markdown",
   "id": "bf3b33bb-0ea5-496d-b42c-2557a01c91b7",
   "metadata": {},
   "source": [
    "## Window \n",
    "Grid-styled, 3 columns (weights: 1, 3, 2), 7 rows (all weight: 1)"
   ]
  },
  {
   "cell_type": "code",
   "execution_count": 279,
   "id": "4f8aa3ce-dbec-4a52-be76-1a73b1989aaf",
   "metadata": {},
   "outputs": [],
   "source": [
    "window = ttk.Window(themename='darkly')\n",
    "window.title('Interplanetar GUI')\n",
    "window.geometry('800x400')\n",
    "\n",
    "window.columnconfigure(0, weight=1)\n",
    "window.columnconfigure(1, weight=3)\n",
    "window.columnconfigure(2, weight=2)\n",
    "\n",
    "window.rowconfigure(0, weight=1)\n",
    "window.rowconfigure(1, weight=2)\n",
    "window.rowconfigure(2, weight=2)\n",
    "window.rowconfigure(3, weight=2)\n",
    "window.rowconfigure(4, weight=2)\n",
    "window.rowconfigure(5, weight=2)\n",
    "window.rowconfigure(6, weight=2)"
   ]
  },
  {
   "cell_type": "markdown",
   "id": "b320f328-fc27-4a3b-b5ca-2fcd6bc7775b",
   "metadata": {},
   "source": [
    "## Global variables "
   ]
  },
  {
   "cell_type": "code",
   "execution_count": 280,
   "id": "08cd2e65-edaa-4bf1-8bef-8205f78933af",
   "metadata": {},
   "outputs": [],
   "source": [
    "global_font = tk.StringVar(value = 'Roboto Mono')\n",
    "background_color = tk.StringVar(value = 'orange')\n",
    "arming_status = tk.StringVar(value = 'disarmed')\n",
    "\n",
    "# stats\n",
    "arm_stat = tk.StringVar(value = 'Arming Status: --')\n",
    "ping = tk.StringVar(value = 'Ping: --')\n",
    "wheel_battery = tk.StringVar(value = 'Wheel Battery: --')\n",
    "\n",
    "# wheel\n",
    "speed_text = tk.StringVar(value = 'Speed: --')\n",
    "speed = tk.DoubleVar(value = 0.4)\n",
    "odom = tk.StringVar(value = 'Odometry: --')\n",
    "\n",
    "# actions\n",
    "arm_button_text = tk.StringVar(value = 'Arm')\n",
    "need_delay = tk.StringVar(value = '1')"
   ]
  },
  {
   "cell_type": "markdown",
   "id": "358a5c1d-0810-4633-9d3d-8e0ccb7e7794",
   "metadata": {},
   "source": [
    "## Functions"
   ]
  },
  {
   "cell_type": "markdown",
   "id": "db42d43f-cf2e-4c69-86c6-5379c64057e8",
   "metadata": {},
   "source": [
    "### Update colors of certain labels"
   ]
  },
  {
   "cell_type": "code",
   "execution_count": 281,
   "id": "18d2abf8-a497-430e-b95a-4955c15860dd",
   "metadata": {},
   "outputs": [],
   "source": [
    "def update_color(color):\n",
    "    header_label[\"background\"] = color\n",
    "    devicelist_label[\"background\"] = color\n",
    "    stats_label[\"background\"] = color\n",
    "    terminal_label[\"background\"] = color\n",
    "    arm_label[\"background\"] = color\n",
    "    actions_label[\"background\"] = color\n",
    "    "
   ]
  },
  {
   "cell_type": "markdown",
   "id": "2570598f-5423-4216-8aa0-48ff78e29667",
   "metadata": {},
   "source": [
    "### Arming switch functionality"
   ]
  },
  {
   "cell_type": "code",
   "execution_count": 282,
   "id": "32bc7848-636f-42e1-b320-36ed1126ab87",
   "metadata": {},
   "outputs": [],
   "source": [
    "def arm_switch():\n",
    "    # arming\n",
    "    if arming_status.get() == 'disarmed':\n",
    "        # add 5s delay if needed\n",
    "        if need_delay.get() == '1':\n",
    "            arming_status.set('arming')   \n",
    "            arm_stat.set('Arming Status: Arming')\n",
    "            update_color('yellow')\n",
    "            for i in range(5):\n",
    "                arm_button_text.set(f'Arming in {i}...')\n",
    "                time.sleep(1)\n",
    "\n",
    "        # change arming status\n",
    "        arming_status.set('armed')\n",
    "        arm_stat.set('Arming Status: Armed')\n",
    "        arm_button_text.set('Disarm')\n",
    "        \n",
    "        # enable the widgets\n",
    "        forward[\"state\"] = \"normal\"\n",
    "        backward[\"state\"] = \"normal\"\n",
    "        left[\"state\"] = \"normal\"\n",
    "        right[\"state\"] = \"normal\"\n",
    "        speed_slider[\"state\"] = \"normal\"\n",
    "        \n",
    "        # change color\n",
    "        update_color('green')\n",
    "\n",
    "    # disarming\n",
    "    elif arming_status.get() == 'armed' or arming_status.get() == 'arming':\n",
    "        # change arming status\n",
    "        arming_status.set('disarmed')\n",
    "        arm_stat.set('Arming Status: Disarmed')\n",
    "        arm_button_text.set('Arm')\n",
    "        \n",
    "        # disable the widgets\n",
    "        forward[\"state\"] = \"disabled\"\n",
    "        backward[\"state\"] = \"disabled\"\n",
    "        left[\"state\"] = \"disabled\"\n",
    "        right[\"state\"] = \"disabled\"\n",
    "        speed_slider[\"state\"] = \"disabled\"\n",
    "        \n",
    "        # change color\n",
    "        update_color('red')"
   ]
  },
  {
   "cell_type": "markdown",
   "id": "8d61fe61-b48c-4f54-9b7e-33933471faa7",
   "metadata": {},
   "source": [
    "### Movement functions"
   ]
  },
  {
   "cell_type": "code",
   "execution_count": 283,
   "id": "2faed881-bc98-4a74-96eb-4251f562bddf",
   "metadata": {},
   "outputs": [],
   "source": [
    "def stop_moving(obj):\n",
    "    print(f\"stopped, obj: {obj}, last speed: {speed.get()}\")"
   ]
  },
  {
   "cell_type": "code",
   "execution_count": 284,
   "id": "52395522-8b0e-4f02-8585-6a49125e0cf7",
   "metadata": {},
   "outputs": [],
   "source": [
    "def move_forward(obj):\n",
    "    if arming_status.get() == 'armed':\n",
    "        print(f\"forward, obj: {obj}, speed: {speed.get()}\")\n",
    "    else: \n",
    "        print(\"Not armed, command denied\")"
   ]
  },
  {
   "cell_type": "code",
   "execution_count": 285,
   "id": "f35e0a56-c5fe-4cc7-bbf0-34892a156d8f",
   "metadata": {},
   "outputs": [],
   "source": [
    "def move_backward(obj):\n",
    "    if arming_status.get() == 'armed':\n",
    "        print(f\"backward, obj: {obj}, speed: {speed.get()}\")\n",
    "    else:\n",
    "        print(\"Not armed, command denied\")"
   ]
  },
  {
   "cell_type": "code",
   "execution_count": 286,
   "id": "a4c7c651-1e8e-4612-a8eb-0a596824ffb4",
   "metadata": {},
   "outputs": [],
   "source": [
    "def move_left(obj):\n",
    "    if arming_status.get() == 'armed':\n",
    "        print(f\"left, obj: {obj}, speed: {speed.get()}\")\n",
    "    else:\n",
    "        print(\"Not armed, command denied\")"
   ]
  },
  {
   "cell_type": "code",
   "execution_count": 287,
   "id": "e56e5b65-7946-4b20-bad7-41b531c064bf",
   "metadata": {},
   "outputs": [],
   "source": [
    "def move_right(obj):\n",
    "    if arming_status.get() == 'armed':\n",
    "        print(f\"right, obj: {obj}, speed: {speed.get()}\")\n",
    "    else:\n",
    "        print(\"Not armed, command denied\")"
   ]
  },
  {
   "cell_type": "code",
   "execution_count": 288,
   "id": "e79f636a-171f-4cb4-84ec-e63f63ed10c0",
   "metadata": {},
   "outputs": [],
   "source": [
    "def update_speed(value):\n",
    "    speed.set(round(float(value), 2))\n",
    "    speed_text.set(f'Speed: {round(float(value), 2)}')"
   ]
  },
  {
   "cell_type": "markdown",
   "id": "de8d6295-853b-4226-a685-7cfc6adbe84c",
   "metadata": {},
   "source": [
    "## Frames\n",
    "Includes: Header, Device list, Stats, Control tabs, Terminal, Arm visualization"
   ]
  },
  {
   "cell_type": "code",
   "execution_count": 289,
   "id": "f360a3aa-6dad-4314-b967-0eb4a244268c",
   "metadata": {},
   "outputs": [],
   "source": [
    "header_frame = ttk.Frame(window)\n",
    "devicelist_frame = ttk.Frame(window)\n",
    "stats_frame = ttk.Frame(window)\n",
    "controls_frame = ttk.Frame(window)\n",
    "terminal_frame = ttk.Frame(window)\n",
    "arm_frame = ttk.Frame(window)\n",
    "actions_frame = ttk.Frame(window)"
   ]
  },
  {
   "cell_type": "markdown",
   "id": "4dca4760-856f-47cd-a31e-e0d00af447b0",
   "metadata": {},
   "source": [
    "## Widgets\n",
    "Individual widgets that go into frames"
   ]
  },
  {
   "cell_type": "markdown",
   "id": "734659bd-12e8-4c31-be61-887f0dff6ae1",
   "metadata": {},
   "source": [
    "### Title"
   ]
  },
  {
   "cell_type": "code",
   "execution_count": 290,
   "id": "9567414e-0068-4c05-bdc7-b4aace384dd5",
   "metadata": {},
   "outputs": [],
   "source": [
    "header_label = ttk.Label(header_frame, anchor=tk.CENTER, borderwidth=2, relief=\"solid\", font=(global_font.get(), 16, \"bold\"), text='Team Interplanetar', background=background_color.get())"
   ]
  },
  {
   "cell_type": "markdown",
   "id": "646610f2-8b90-439e-9672-2b5dc04ea315",
   "metadata": {},
   "source": [
    "### Devices"
   ]
  },
  {
   "cell_type": "code",
   "execution_count": 291,
   "id": "1fbd9f62-c04d-4e68-93fe-91795439cadf",
   "metadata": {},
   "outputs": [],
   "source": [
    "devicelist_label = ttk.Label(devicelist_frame, text='Devices', borderwidth=2, relief=\"solid\", background=background_color.get(), anchor=tk.CENTER, font=(global_font.get(), 12, 'bold'))"
   ]
  },
  {
   "cell_type": "markdown",
   "id": "1b92f3c8-8543-4ba7-8e2d-f8be189b3ef4",
   "metadata": {},
   "source": [
    "### Stats"
   ]
  },
  {
   "cell_type": "code",
   "execution_count": 292,
   "id": "33725918-cf6d-4f64-95b8-4be0c7315b17",
   "metadata": {},
   "outputs": [],
   "source": [
    "stats_label =  ttk.Label(stats_frame, text='Stats', borderwidth=2, relief=\"solid\", background=background_color.get(), anchor=tk.CENTER, font=(global_font.get(), 12, 'bold'))\n",
    "\n",
    "# stat labels (might have update issues)\n",
    "arm_status =  ttk.Label(stats_frame, textvariable=arm_stat, font=(global_font.get(), 10))\n",
    "ping_count = ttk.Label(stats_frame, textvariable=ping, font=(global_font.get(), 10))\n",
    "wheel_bat = ttk.Label(stats_frame, textvariable=wheel_battery, font=(global_font.get(), 10))\n",
    "sensors = ttk.Label(stats_frame, text='Sensors:', font=(global_font.get(), 10))\n",
    "\n",
    "\n",
    "# packing\n",
    "stats_label.pack(expand=False, fill='x')\n",
    "arm_status.pack(expand=False, fill='x')\n",
    "ping_count.pack(expand=False, fill='x')\n",
    "wheel_bat.pack(expand=False, fill='x')\n",
    "sensors.pack(expand=False, fill='x')"
   ]
  },
  {
   "cell_type": "markdown",
   "id": "178db31f-3518-4d9d-9b87-a7751953b584",
   "metadata": {},
   "source": [
    "### Control tabs"
   ]
  },
  {
   "cell_type": "code",
   "execution_count": 293,
   "id": "42d2c814-2c77-4971-8c92-67a4b647c952",
   "metadata": {},
   "outputs": [],
   "source": [
    "controls_notebook = ttk.Notebook(controls_frame)"
   ]
  },
  {
   "cell_type": "markdown",
   "id": "ae748e3f-a576-48e0-9de5-149e4b14c3de",
   "metadata": {},
   "source": [
    "#### Wheel tab"
   ]
  },
  {
   "cell_type": "code",
   "execution_count": 294,
   "id": "c9705842-60c9-4770-88ff-689c2c53c772",
   "metadata": {},
   "outputs": [],
   "source": [
    "wheel_tab = ttk.Frame(controls_notebook)\n",
    "\n",
    "wheel_tab.rowconfigure(0, weight=1)\n",
    "wheel_tab.rowconfigure(1, weight=1)\n",
    "wheel_tab.rowconfigure(2, weight=1)\n",
    "wheel_tab.rowconfigure(3, weight=1)\n",
    "wheel_tab.rowconfigure(4, weight=1)\n",
    "wheel_tab.rowconfigure(5, weight=1)\n",
    "\n",
    "wheel_tab.columnconfigure(0, weight=1)\n",
    "wheel_tab.columnconfigure(1, weight=1)\n",
    "wheel_tab.columnconfigure(2, weight=1)\n",
    "wheel_tab.columnconfigure(3, weight=1)\n",
    "wheel_tab.columnconfigure(4, weight=1)\n",
    "wheel_tab.columnconfigure(5, weight=1)\n",
    "wheel_tab.columnconfigure(6, weight=1)\n",
    "wheel_tab.columnconfigure(7, weight=1)"
   ]
  },
  {
   "cell_type": "markdown",
   "id": "6801344a-97c8-4774-8d2c-12b04cffa92d",
   "metadata": {},
   "source": [
    "#### Wheel widgets"
   ]
  },
  {
   "cell_type": "code",
   "execution_count": 295,
   "id": "9ed9dcfd-7875-4a6e-a708-248e81270079",
   "metadata": {},
   "outputs": [],
   "source": [
    "forward = ttk.Button(wheel_tab, text=\"Forward\", bootstyle='success', state='disabled')\n",
    "backward = ttk.Button(wheel_tab, text=\"Backward\", bootstyle='success', state='disabled')\n",
    "left = ttk.Button(wheel_tab, text=\"Left\", bootstyle='success', state='disabled')\n",
    "right = ttk.Button(wheel_tab, text=\"Right\", bootstyle='success', state='disabled')\n",
    "\n",
    "speed_val = ttk.Label(wheel_tab, textvariable=speed_text, font=(global_font.get(), 10))\n",
    "# speed_slider = ttk.Scale(wheel_tab, command = lambda value: speed.set(f'Speed: {round(float(value), 2)}'), state='disabled')\n",
    "speed_slider = ttk.Scale(wheel_tab, command = update_speed, state='disabled')\n",
    "odom_text = ttk.Label(wheel_tab, textvariable=odom, font=(global_font.get(), 10))\n",
    "\n",
    "forward.grid(row=1, column=1, sticky='news')\n",
    "backward.grid(row=3, column=1, sticky='news')\n",
    "left.grid(row=2, column=0, sticky='news')\n",
    "right.grid(row=2, column=2, sticky='news')\n",
    "speed_val.grid(row=0, column=4, columnspan=3, sticky='news')\n",
    "speed_slider.grid(row=1, column=4, columnspan=3, sticky='news')\n",
    "odom_text.grid(row=2, column=4, columnspan=3, rowspan=2, sticky='news')"
   ]
  },
  {
   "cell_type": "markdown",
   "id": "1acf7fdd-0784-4c4f-9536-27539928489e",
   "metadata": {},
   "source": [
    "#### Binding functions"
   ]
  },
  {
   "cell_type": "code",
   "execution_count": 296,
   "id": "31ff9183-d8bb-4257-8865-099cee09df50",
   "metadata": {},
   "outputs": [
    {
     "data": {
      "text/plain": [
       "'2343819521216stop_moving'"
      ]
     },
     "execution_count": 296,
     "metadata": {},
     "output_type": "execute_result"
    }
   ],
   "source": [
    "forward.bind(\"<ButtonPress>\", move_forward)\n",
    "forward.bind(\"<ButtonRelease>\", stop_moving)\n",
    "\n",
    "backward.bind(\"<ButtonPress>\", move_backward)\n",
    "backward.bind(\"<ButtonRelease>\", stop_moving)\n",
    "\n",
    "left.bind(\"<ButtonPress>\", move_left)\n",
    "left.bind(\"<ButtonRelease>\", stop_moving)\n",
    "\n",
    "right.bind(\"<ButtonPress>\", move_right)\n",
    "right.bind(\"<ButtonRelease>\", stop_moving)"
   ]
  },
  {
   "cell_type": "markdown",
   "id": "aa48dd37-3d7c-45f8-b54d-c2f3f8497103",
   "metadata": {},
   "source": [
    "#### Arm"
   ]
  },
  {
   "cell_type": "code",
   "execution_count": 297,
   "id": "db266628-82a7-4a9f-92b6-90bcdf47e898",
   "metadata": {},
   "outputs": [],
   "source": [
    "arm_tab = ttk.Frame(controls_notebook)"
   ]
  },
  {
   "cell_type": "markdown",
   "id": "c425cd4f-892b-497b-ae36-b2be0004a722",
   "metadata": {},
   "source": [
    "#### Science tools"
   ]
  },
  {
   "cell_type": "code",
   "execution_count": 298,
   "id": "8f32ee11-f648-4440-882c-2ee1d27a4d36",
   "metadata": {},
   "outputs": [],
   "source": [
    "science_tab = ttk.Frame(controls_notebook)"
   ]
  },
  {
   "cell_type": "markdown",
   "id": "0dc5da27-ec5b-4412-b0cf-5d1a6459971c",
   "metadata": {},
   "source": [
    "#### Packing Control Tabs"
   ]
  },
  {
   "cell_type": "code",
   "execution_count": 299,
   "id": "6a421ffb-ddaa-4f69-84c7-7f165d0d0a44",
   "metadata": {},
   "outputs": [],
   "source": [
    "controls_notebook.add(wheel_tab, text=\"Wheel\")\n",
    "controls_notebook.add(arm_tab, text=\"Arm\")\n",
    "controls_notebook.add(science_tab, text=\"Science tools\")\n",
    "\n",
    "controls_notebook.pack(expand=True, fill='both')"
   ]
  },
  {
   "cell_type": "markdown",
   "id": "aed0e96e-4cdf-420f-974f-d6901a2c6e38",
   "metadata": {},
   "source": [
    "### Terminal"
   ]
  },
  {
   "cell_type": "code",
   "execution_count": 300,
   "id": "3686f216-cf6b-44c5-9055-d260d376991b",
   "metadata": {},
   "outputs": [],
   "source": [
    "terminal_label = ttk.Label(terminal_frame, text='Terminal', borderwidth=2, relief=\"solid\", background=background_color.get(), anchor=tk.CENTER, font=(global_font.get(), 12, 'bold'))"
   ]
  },
  {
   "cell_type": "markdown",
   "id": "94d59935-3a7d-42e6-9f4a-5cc450149456",
   "metadata": {},
   "source": [
    "### Arm visualization"
   ]
  },
  {
   "cell_type": "code",
   "execution_count": 301,
   "id": "cf7c2523-bb05-4925-8040-1f95019d0ef6",
   "metadata": {},
   "outputs": [],
   "source": [
    "arm_label = ttk.Label(arm_frame, text='Rover Arm', borderwidth=2, relief=\"solid\", background=background_color.get(), anchor=tk.CENTER, font=(global_font.get(), 12, 'bold'))"
   ]
  },
  {
   "cell_type": "markdown",
   "id": "6d024c88-c1d4-490d-8db0-a79583af1970",
   "metadata": {},
   "source": [
    "### Actions "
   ]
  },
  {
   "cell_type": "code",
   "execution_count": 302,
   "id": "aa9e7280-91b8-4c41-8118-c1a0fc372a83",
   "metadata": {},
   "outputs": [],
   "source": [
    "actions_label = ttk.Label(actions_frame, text='Actions', borderwidth=2, relief=\"solid\", background=background_color.get(), anchor=tk.CENTER, font=(global_font.get(), 12, 'bold'))\n",
    "\n",
    "arm_button = tk.Button(actions_frame, textvariable=arm_button_text, command=arm_switch, width=20)\n",
    "timer_checkbox = tk.Checkbutton(actions_frame, text='Add 5s delay before arming', variable=need_delay)\n",
    "\n",
    "actions_label.pack(expand=False, fill='x')\n",
    "arm_button.pack(padx=5, pady=10)\n",
    "timer_checkbox.pack()"
   ]
  },
  {
   "cell_type": "markdown",
   "id": "d3b2e2cb-43b9-4400-8607-9599148c50d0",
   "metadata": {},
   "source": [
    "## Widget positioning"
   ]
  },
  {
   "cell_type": "code",
   "execution_count": 303,
   "id": "9e05a0a8-3dda-47d3-ae1e-16b3bc181e50",
   "metadata": {},
   "outputs": [],
   "source": [
    "header_label.pack(expand=True, fill='both')\n",
    "devicelist_label.pack(expand=False, fill='x')\n",
    "\n",
    "# controls_label.pack(expand=True, fill='both')\n",
    "terminal_label.pack(expand=False, fill='x')\n",
    "arm_label.pack(expand=False, fill='x')\n"
   ]
  },
  {
   "cell_type": "markdown",
   "id": "33982c24-d8b4-4b11-86e7-7a5be4a57772",
   "metadata": {},
   "source": [
    "## Frame Positioning"
   ]
  },
  {
   "cell_type": "code",
   "execution_count": 304,
   "id": "3621d117-5d7a-47d5-b5b2-286499adef80",
   "metadata": {},
   "outputs": [],
   "source": [
    "header_frame.grid(row=0, column=0, columnspan=3, sticky='news')\n",
    "stats_frame.grid(row=1, column=0, rowspan=4, sticky='news')\n",
    "devicelist_frame.grid(row=5, column=0, rowspan=2, sticky='news')\n",
    "controls_frame.grid(row=1, column=1, rowspan=4, sticky='news')\n",
    "terminal_frame.grid(row=5, column=1, rowspan=2, sticky='news')\n",
    "arm_frame.grid(row=1, column=2, rowspan=4, sticky='news')\n",
    "actions_frame.grid(row=5, column=2, rowspan=2, sticky='news')"
   ]
  },
  {
   "cell_type": "markdown",
   "id": "852f4645-b508-40ae-b86f-e21cc90a2ba0",
   "metadata": {},
   "source": [
    "## Run"
   ]
  },
  {
   "cell_type": "code",
   "execution_count": 305,
   "id": "13ca3b9e-3b50-425f-ac11-954d1224cc89",
   "metadata": {},
   "outputs": [
    {
     "name": "stdout",
     "output_type": "stream",
     "text": [
      "forward, obj: <ButtonPress event num=1 x=40 y=24>, speed: 0.4\n",
      "stopped, obj: <ButtonRelease event state=Button1 num=1 x=40 y=24>, last speed: 0.4\n",
      "right, obj: <ButtonPress event num=1 x=59 y=29>, speed: 0.4\n",
      "stopped, obj: <ButtonRelease event state=Button1 num=1 x=59 y=29>, last speed: 0.4\n",
      "left, obj: <ButtonPress event num=1 x=26 y=22>, speed: 0.4\n",
      "stopped, obj: <ButtonRelease event state=Button1 num=1 x=26 y=22>, last speed: 0.4\n",
      "backward, obj: <ButtonPress event num=1 x=48 y=35>, speed: 0.4\n",
      "stopped, obj: <ButtonRelease event state=Button1 num=1 x=48 y=35>, last speed: 0.4\n",
      "Not armed, command denied\n",
      "stopped, obj: <ButtonRelease event state=Button1 num=1 x=47 y=27>, last speed: 0.4\n",
      "Not armed, command denied\n",
      "stopped, obj: <ButtonRelease event state=Button1 num=1 x=37 y=26>, last speed: 0.4\n",
      "Not armed, command denied\n",
      "stopped, obj: <ButtonRelease event state=Button1 num=1 x=45 y=21>, last speed: 0.4\n",
      "Not armed, command denied\n",
      "stopped, obj: <ButtonRelease event state=Button1 num=1 x=30 y=21>, last speed: 0.4\n"
     ]
    }
   ],
   "source": [
    "window.mainloop()"
   ]
  },
  {
   "cell_type": "code",
   "execution_count": 306,
   "id": "ba52a856-578f-4901-b0ee-e233360d79cd",
   "metadata": {},
   "outputs": [],
   "source": [
    "# import tkinter as tk\n",
    "# # from tkinter import ttk\n",
    "# import ttkbootstrap as ttk\n",
    "\n",
    "# # window\n",
    "# window = ttk.Window(themename = 'darkly')\n",
    "# window.title('ttk bootstrap intro')\n",
    "# window.geometry('400x300')\n",
    "\n",
    "# label = ttk.Label(window, text = 'Label')\n",
    "# label.pack(pady = 10)\n",
    "\n",
    "# button1 = ttk.Button(window, text = 'Red', bootstyle = 'danger-outline')\n",
    "# button1.pack(pady = 10)\n",
    "\n",
    "# button2 = ttk.Button(window, text = 'Warning', bootstyle = 'warning')\n",
    "# button2.pack(pady = 10)\n",
    "\n",
    "# button3 = ttk.Button(window, text = 'Green', bootstyle = 'success')\n",
    "# button3.pack(pady = 10)\n",
    "\n",
    "# # run \n",
    "# window.mainloop()"
   ]
  },
  {
   "cell_type": "code",
   "execution_count": 307,
   "id": "f5c6a081-10a2-4aa9-8be0-5b98f7b692c4",
   "metadata": {},
   "outputs": [],
   "source": [
    "# import ttkbootstrap as ttk\n",
    "# from ttkbootstrap.constants import *\n",
    "\n",
    "# root = ttk.Window(themename=\"superhero\")\n",
    "\n",
    "# b1 = ttk.Button(root, text=\"Submit\", bootstyle=\"success\")\n",
    "# b1.pack(side=LEFT, padx=5, pady=10)\n",
    "\n",
    "# b2 = ttk.Button(root, text=\"Submit\", bootstyle=\"info-outline\")\n",
    "# b2.pack(side=LEFT, padx=5, pady=10)\n",
    "\n",
    "# root.mainloop()"
   ]
  },
  {
   "cell_type": "code",
   "execution_count": null,
   "id": "a63f645b-65f9-43ae-b0d0-cbad7e1e4cef",
   "metadata": {},
   "outputs": [],
   "source": []
  }
 ],
 "metadata": {
  "kernelspec": {
   "display_name": "Python 3 (ipykernel)",
   "language": "python",
   "name": "python3"
  },
  "language_info": {
   "codemirror_mode": {
    "name": "ipython",
    "version": 3
   },
   "file_extension": ".py",
   "mimetype": "text/x-python",
   "name": "python",
   "nbconvert_exporter": "python",
   "pygments_lexer": "ipython3",
   "version": "3.8.19"
  }
 },
 "nbformat": 4,
 "nbformat_minor": 5
}
